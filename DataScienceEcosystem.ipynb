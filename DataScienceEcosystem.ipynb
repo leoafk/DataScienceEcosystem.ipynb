{
  "metadata": {
    "kernelspec": {
      "name": "python",
      "display_name": "Python (Pyodide)",
      "language": "python"
    },
    "language_info": {
      "codemirror_mode": {
        "name": "python",
        "version": 3
      },
      "file_extension": ".py",
      "mimetype": "text/x-python",
      "name": "python",
      "nbconvert_exporter": "python",
      "pygments_lexer": "ipython3",
      "version": "3.8"
    }
  },
  "nbformat_minor": 5,
  "nbformat": 4,
  "cells": [
    {
      "id": "2ed07054-732a-4534-99e7-ca653e51964d",
      "cell_type": "markdown",
      "source": "# Data Science Tools and Ecosystem",
      "metadata": {}
    },
    {
      "id": "7c63dfc1-8821-4b85-9015-ef6e3f145131",
      "cell_type": "markdown",
      "source": "In this notebook, Data Science Tools and Ecosystem are summarized.",
      "metadata": {}
    },
    {
      "id": "08003c0b-3c0d-473d-8280-f7087d85154a",
      "cell_type": "markdown",
      "source": "Some of the popular languages that Data Scientists use are:\n1. Python\n2. R\n3. SQL",
      "metadata": {}
    },
    {
      "id": "246c4f27-fbd1-4595-b443-c377824d3a31",
      "cell_type": "markdown",
      "source": "Some of the commonly used libraries used by Data Scientists include:\n1. Scikit-learn\n2. Matplotlib\n3. NumPy",
      "metadata": {}
    },
    {
      "id": "dfded34e-421b-4725-9f1b-262c24e3c3b9",
      "cell_type": "markdown",
      "source": "| Data Science Tools |\n|--------------------|\n| Jupyter Notebook |\n| R Studio |\n| VS Code |",
      "metadata": {}
    },
    {
      "id": "b2e3f441-953e-477f-89e5-f90b826e0826",
      "cell_type": "markdown",
      "source": "### Below are a few examples of evaluating arithmetic expressions in Python",
      "metadata": {}
    },
    {
      "id": "be5a9bd5-2775-40c2-bc21-5a7221430065",
      "cell_type": "code",
      "source": "#This a simple arithmetic expression to mutiply then add integers\neval = (3*4)+5\nprint(eval)",
      "metadata": {
        "trusted": true
      },
      "outputs": [
        {
          "name": "stdout",
          "output_type": "stream",
          "text": "17\n"
        }
      ],
      "execution_count": 1
    },
    {
      "id": "a093b485-36a5-4c9d-a4c7-f819a3271c19",
      "cell_type": "code",
      "source": "#This will convert 200 minutes to hours by diving by 60\nprint(200 / 60)",
      "metadata": {
        "trusted": true
      },
      "outputs": [
        {
          "name": "stdout",
          "output_type": "stream",
          "text": "3.3333333333333335\n"
        }
      ],
      "execution_count": 3
    },
    {
      "id": "8b962f5a-197e-4cea-a563-6efa1389a0c5",
      "cell_type": "markdown",
      "source": "**Objectives:** List popular languages for Data Science.\n* Python\n* R\n* SQL\n\n",
      "metadata": {}
    },
    {
      "id": "e6453237-6336-47ac-9fe4-2a5bb696808a",
      "cell_type": "markdown",
      "source": "## Author\nLeonardo Affonso",
      "metadata": {}
    },
    {
      "id": "b50a76a7-a7d6-4520-bcec-5f766bb664d2",
      "cell_type": "code",
      "source": "",
      "metadata": {
        "trusted": true
      },
      "outputs": [],
      "execution_count": null
    }
  ]
}